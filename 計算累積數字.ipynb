{
  "nbformat": 4,
  "nbformat_minor": 0,
  "metadata": {
    "colab": {
      "provenance": [],
      "authorship_tag": "ABX9TyPYuNrAw5RwMrKgvaKcwKB6",
      "include_colab_link": true
    },
    "kernelspec": {
      "name": "python3",
      "display_name": "Python 3"
    },
    "language_info": {
      "name": "python"
    }
  },
  "cells": [
    {
      "cell_type": "markdown",
      "metadata": {
        "id": "view-in-github",
        "colab_type": "text"
      },
      "source": [
        "<a href=\"https://colab.research.google.com/github/sBobonge/sBobonge/blob/main/%E8%A8%88%E7%AE%97%E7%B4%AF%E7%A9%8D%E6%95%B8%E5%AD%97.ipynb\" target=\"_parent\"><img src=\"https://colab.research.google.com/assets/colab-badge.svg\" alt=\"Open In Colab\"/></a>"
      ]
    },
    {
      "cell_type": "code",
      "execution_count": 5,
      "metadata": {
        "id": "IKe6yhC3lNqp",
        "colab": {
          "base_uri": "https://localhost:8080/"
        },
        "outputId": "8917b0c6-b597-4da1-a5db-f5f1bb383968"
      },
      "outputs": [
        {
          "output_type": "stream",
          "name": "stdout",
          "text": [
            "26295929\n",
            "53964171\n",
            "80966464\n",
            "109314335\n"
          ]
        }
      ],
      "source": [
        "Q1 = 26295929\n",
        "Q2 = 27668242\n",
        "Q3 = 27002293\n",
        "Q4 = 28347871\n",
        "acc_Q1 = Q1\n",
        "print(acc_Q1)\n",
        "acc_Q2 = Q1+Q2\n",
        "print(acc_Q2)\n",
        "acc_Q3 = Q1+Q2+Q3\n",
        "print(acc_Q3)\n",
        "acc_Q4 = Q1+Q2+Q3+Q4\n",
        "print(acc_Q4)\n",
        "\n",
        "\n",
        "\n"
      ]
    },
    {
      "cell_type": "code",
      "source": [],
      "metadata": {
        "id": "IlHv9p3Ctc2f"
      },
      "execution_count": null,
      "outputs": []
    }
  ]
}